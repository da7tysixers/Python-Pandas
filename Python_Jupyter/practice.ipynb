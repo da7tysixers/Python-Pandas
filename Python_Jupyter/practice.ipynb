{
 "cells": [
  {
   "cell_type": "markdown",
   "metadata": {},
   "source": [
    "## Practice session:\n",
    "Practice Python code after class sessions.\n"
   ]
  },
  {
   "cell_type": "code",
   "execution_count": 9,
   "metadata": {},
   "outputs": [
    {
     "name": "stdout",
     "output_type": "stream",
     "text": [
      "{'Cha': 'Chicken', 'Food': 'Rice', 'Woo': 'Milk'}\n"
     ]
    }
   ],
   "source": [
    "data = [(\"Cha\", \"Chicken\"), (\"Food\", \"Rice\"), (\"Woo\", \"Milk\")]\n",
    "\n",
    "result = dict(data)\n",
    "print(result)"
   ]
  },
  {
   "cell_type": "code",
   "execution_count": 10,
   "metadata": {},
   "outputs": [
    {
     "data": {
      "text/plain": [
       "{'firstname': 'John', 'lastname': 'Owo'}"
      ]
     },
     "execution_count": 10,
     "metadata": {},
     "output_type": "execute_result"
    }
   ],
   "source": [
    "dict(firstname=\"John\", lastname=\"Owo\")"
   ]
  },
  {
   "cell_type": "code",
   "execution_count": 19,
   "metadata": {},
   "outputs": [
    {
     "name": "stdout",
     "output_type": "stream",
     "text": [
      "first\n",
      "second\n",
      "third\n",
      "fourth\n",
      "['third']\n"
     ]
    }
   ],
   "source": [
    "lot = list()\n",
    "lot = [\"first\", \"second\", \"third\", \"fourth\"]\n",
    "lot_item = [n for n in lot if n == \"third\" ]\n",
    "for n in lot:\n",
    "    print(n)\n",
    "print(lot_item)"
   ]
  },
  {
   "cell_type": "code",
   "execution_count": null,
   "metadata": {},
   "outputs": [],
   "source": []
  },
  {
   "cell_type": "code",
   "execution_count": 22,
   "metadata": {},
   "outputs": [],
   "source": [
    "import os\n",
    "for item in os.listdir('sample_data'):\n",
    "    if os.path.isdir(item):\n",
    "        print(\"This is the directory {0}\".format(item))\n",
    "    else:\n",
    "        print(\"directory {0}\")"
   ]
  },
  {
   "cell_type": "code",
   "execution_count": 23,
   "metadata": {},
   "outputs": [
    {
     "name": "stdout",
     "output_type": "stream",
     "text": [
      "red\n",
      "blue\n",
      "brown\n"
     ]
    }
   ],
   "source": [
    "colors = [\"red\", \"blue\", \"brown\"]\n",
    "for color in colors:\n",
    "    print(color)"
   ]
  },
  {
   "cell_type": "code",
   "execution_count": 30,
   "metadata": {},
   "outputs": [
    {
     "data": {
      "text/plain": [
       "[1, 2, 3, 4, 7, 10, 9, 16]"
      ]
     },
     "execution_count": 30,
     "metadata": {},
     "output_type": "execute_result"
    }
   ],
   "source": [
    "numbers = [1,2,3,4,6,7,10,9,16,5]\n",
    "low_numbers = [n for n in numbers if n != 6 and n != 5]\n",
    "low_numbers"
   ]
  },
  {
   "cell_type": "code",
   "execution_count": 1,
   "metadata": {},
   "outputs": [
    {
     "name": "stdout",
     "output_type": "stream",
     "text": [
      "You lose\n"
     ]
    }
   ],
   "source": [
    "score = 1\n",
    "if score > 3:\n",
    "    print('You win')\n",
    "else:\n",
    "    print('You lose')"
   ]
  },
  {
   "cell_type": "code",
   "execution_count": 3,
   "metadata": {},
   "outputs": [
    {
     "name": "stdout",
     "output_type": "stream",
     "text": [
      "i don't know\n"
     ]
    }
   ],
   "source": [
    "temp = 38\n",
    "\n",
    "match temp:\n",
    "    case 33:\n",
    "        print('too low')\n",
    "    case 40:\n",
    "        print('too high')\n",
    "    case _:\n",
    "        print(\"i don't know\")\n",
    "    "
   ]
  },
  {
   "cell_type": "code",
   "execution_count": 4,
   "metadata": {},
   "outputs": [
    {
     "name": "stdout",
     "output_type": "stream",
     "text": [
      "23\n"
     ]
    }
   ],
   "source": [
    "pos = (12, 23)\n",
    "\n",
    "match pos:\n",
    "    case (22, 33):\n",
    "        print('one')\n",
    "    case (12, y):\n",
    "        print(y)\n",
    "    "
   ]
  },
  {
   "cell_type": "code",
   "execution_count": 11,
   "metadata": {},
   "outputs": [
    {
     "name": "stdout",
     "output_type": "stream",
     "text": [
      "You won\n",
      "You won\n",
      "You won\n"
     ]
    }
   ],
   "source": [
    "count = 1\n",
    "while count < 5:\n",
    "    print('You won')\n",
    "    count *= 2\n",
    "    "
   ]
  },
  {
   "cell_type": "code",
   "execution_count": 12,
   "metadata": {},
   "outputs": [
    {
     "name": "stdout",
     "output_type": "stream",
     "text": [
      "['Data', 'Camp', 'tutorial', 'Session']\n"
     ]
    }
   ],
   "source": [
    "a_list = [\"Data\", \"Camp\", \"tutorial\"]\n",
    "a_list.append(\"Session\")\n",
    "print(a_list)"
   ]
  },
  {
   "cell_type": "code",
   "execution_count": 16,
   "metadata": {},
   "outputs": [
    {
     "name": "stdout",
     "output_type": "stream",
     "text": [
      "The title of the book is Sandman\n"
     ]
    }
   ],
   "source": [
    "class book_shop:\n",
    "    #constructor\n",
    "    def __init__(self, title):\n",
    "        self.title = title\n",
    "    \n",
    "    def book(self):\n",
    "        print('The title of the book is', self.title)\n",
    "\n",
    "b = book_shop('Sandman')\n",
    "b.book()\n"
   ]
  },
  {
   "cell_type": "code",
   "execution_count": null,
   "metadata": {},
   "outputs": [
    {
     "data": {
      "text/plain": [
       "2"
      ]
     },
     "execution_count": 17,
     "metadata": {},
     "output_type": "execute_result"
    }
   ],
   "source": [
    "#Find the missing number in an array?\n",
    "# n= 8, mssing number = 7\n",
    "def find_missing(input_list):\n",
    "    \n",
    "    sum_of_elements = sum(input_list)\n",
    "    # There is exactly 1 number missing\n",
    "    n = len(input_list) + 1\n",
    "    actual_sum = (n *(n+1))/2\n",
    "\n",
    "    return int(actual_sum - sum_of_elements)\n",
    "list_1 = [1,5,6,3,4]\n",
    "\n",
    "find_missing(list_1)\n",
    "# finds two as the missing number."
   ]
  },
  {
   "cell_type": "code",
   "execution_count": 25,
   "metadata": {},
   "outputs": [
    {
     "name": "stdout",
     "output_type": "stream",
     "text": [
      "{1, 2}\n",
      "{2, 'john', 4, 'nam', 'name'}\n"
     ]
    }
   ],
   "source": [
    "data = set()\n",
    "data.add(1)\n",
    "data.add(2)\n",
    "\n",
    "learn_da = {\"name\", \"john\", 2, 4, 2, \"name\", 'nam'}\n",
    "print(data)\n",
    "print(learn_da)"
   ]
  },
  {
   "cell_type": "code",
   "execution_count": 32,
   "metadata": {},
   "outputs": [
    {
     "name": "stdout",
     "output_type": "stream",
     "text": [
      "John\n",
      "4058863312\n",
      "123 Cox Rd\n",
      "abc@gmail.com\n",
      "Male\n"
     ]
    }
   ],
   "source": [
    "#Phone book implementation\n",
    "\n",
    "phone = {\"Name\": \"John\",\n",
    "         \"Phone\": \"4058863312\",\n",
    "         \"Address\": \"123 Cox Rd\",\n",
    "         \"email\":\"abc@gmail.com\",\n",
    "         \"Gender\": \"Male\"}\n",
    "\n",
    "for value in phone.values():\n",
    "    print(value)"
   ]
  },
  {
   "cell_type": "code",
   "execution_count": 40,
   "metadata": {},
   "outputs": [
    {
     "name": "stdout",
     "output_type": "stream",
     "text": [
      "!\"#$%&'()*+,-./:;<=>?@[\\]^_`{|}~\n"
     ]
    },
    {
     "ename": "FileNotFoundError",
     "evalue": "[Errno 2] No such file or directory: '/Python_Jupyter/alice.txt'",
     "output_type": "error",
     "traceback": [
      "\u001b[1;31m---------------------------------------------------------------------------\u001b[0m",
      "\u001b[1;31mFileNotFoundError\u001b[0m                         Traceback (most recent call last)",
      "Cell \u001b[1;32mIn[40], line 16\u001b[0m\n\u001b[0;32m     13\u001b[0m filepath \u001b[38;5;241m=\u001b[39m \u001b[38;5;124m\"\u001b[39m\u001b[38;5;124m/Python_Jupyter/alice.txt\u001b[39m\u001b[38;5;124m\"\u001b[39m\n\u001b[0;32m     14\u001b[0m word_count \u001b[38;5;241m=\u001b[39m {}\n\u001b[1;32m---> 16\u001b[0m \u001b[38;5;28;01mwith\u001b[39;00m \u001b[38;5;28;43mopen\u001b[39;49m\u001b[43m(\u001b[49m\u001b[43mfilepath\u001b[49m\u001b[43m,\u001b[49m\u001b[43m \u001b[49m\u001b[38;5;124;43m'\u001b[39;49m\u001b[38;5;124;43mr\u001b[39;49m\u001b[38;5;124;43m'\u001b[39;49m\u001b[43m)\u001b[49m \u001b[38;5;28;01mas\u001b[39;00m fi:\n\u001b[0;32m     17\u001b[0m     \u001b[38;5;66;03m# For each line in the file\u001b[39;00m\n\u001b[0;32m     18\u001b[0m     \u001b[38;5;28;01mfor\u001b[39;00m line \u001b[38;5;129;01min\u001b[39;00m fi:\n\u001b[0;32m     19\u001b[0m         \u001b[38;5;66;03m# Remove the punctation\u001b[39;00m\n\u001b[0;32m     20\u001b[0m         line \u001b[38;5;241m=\u001b[39m strip_punctuations(line)\n",
      "File \u001b[1;32m~\\AppData\\Roaming\\Python\\Python313\\site-packages\\IPython\\core\\interactiveshell.py:324\u001b[0m, in \u001b[0;36m_modified_open\u001b[1;34m(file, *args, **kwargs)\u001b[0m\n\u001b[0;32m    317\u001b[0m \u001b[38;5;28;01mif\u001b[39;00m file \u001b[38;5;129;01min\u001b[39;00m {\u001b[38;5;241m0\u001b[39m, \u001b[38;5;241m1\u001b[39m, \u001b[38;5;241m2\u001b[39m}:\n\u001b[0;32m    318\u001b[0m     \u001b[38;5;28;01mraise\u001b[39;00m \u001b[38;5;167;01mValueError\u001b[39;00m(\n\u001b[0;32m    319\u001b[0m         \u001b[38;5;124mf\u001b[39m\u001b[38;5;124m\"\u001b[39m\u001b[38;5;124mIPython won\u001b[39m\u001b[38;5;124m'\u001b[39m\u001b[38;5;124mt let you open fd=\u001b[39m\u001b[38;5;132;01m{\u001b[39;00mfile\u001b[38;5;132;01m}\u001b[39;00m\u001b[38;5;124m by default \u001b[39m\u001b[38;5;124m\"\u001b[39m\n\u001b[0;32m    320\u001b[0m         \u001b[38;5;124m\"\u001b[39m\u001b[38;5;124mas it is likely to crash IPython. If you know what you are doing, \u001b[39m\u001b[38;5;124m\"\u001b[39m\n\u001b[0;32m    321\u001b[0m         \u001b[38;5;124m\"\u001b[39m\u001b[38;5;124myou can use builtins\u001b[39m\u001b[38;5;124m'\u001b[39m\u001b[38;5;124m open.\u001b[39m\u001b[38;5;124m\"\u001b[39m\n\u001b[0;32m    322\u001b[0m     )\n\u001b[1;32m--> 324\u001b[0m \u001b[38;5;28;01mreturn\u001b[39;00m \u001b[43mio_open\u001b[49m\u001b[43m(\u001b[49m\u001b[43mfile\u001b[49m\u001b[43m,\u001b[49m\u001b[43m \u001b[49m\u001b[38;5;241;43m*\u001b[39;49m\u001b[43margs\u001b[49m\u001b[43m,\u001b[49m\u001b[43m \u001b[49m\u001b[38;5;241;43m*\u001b[39;49m\u001b[38;5;241;43m*\u001b[39;49m\u001b[43mkwargs\u001b[49m\u001b[43m)\u001b[49m\n",
      "\u001b[1;31mFileNotFoundError\u001b[0m: [Errno 2] No such file or directory: '/Python_Jupyter/alice.txt'"
     ]
    }
   ],
   "source": [
    "# Getting word freqency from a text file using Python\n",
    "import string\n",
    "import os\n",
    "# string.punctuation contains all the common punctuations\n",
    "# and this function will convert each on into \"nothing\"\n",
    "# So \"Hello, World!\" becomes \"Hello World\"\n",
    "print(string.punctuation)\n",
    "def strip_punctuations(line):\n",
    "    for character in string.punctuation:\n",
    "        line = line.replace(character, \"\")\n",
    "    return line\n",
    "\n",
    "filepath = \"/Python_Jupyter/alice.txt\"\n",
    "word_count = {}\n",
    "\n",
    "with open(filepath, 'r') as fi:\n",
    "    # For each line in the file\n",
    "    for line in fi:\n",
    "        # Remove the punctation\n",
    "        line = strip_punctuations(line)\n",
    "        # Then separate the words by spaces into a list\n",
    "        words = line.split()\n",
    "\n",
    "        # For each word in words\n",
    "        for word in words:\n",
    "            # Convert the word into lowercase\n",
    "            word = word.lower() "
   ]
  },
  {
   "cell_type": "code",
   "execution_count": 3,
   "metadata": {},
   "outputs": [
    {
     "name": "stdout",
     "output_type": "stream",
     "text": [
      "n = 0\n",
      "n =  abc\n",
      "1\n"
     ]
    }
   ],
   "source": [
    "n = 0\n",
    "print('n =', n)\n",
    "\n",
    "n = 'abc'\n",
    "print ('n = ', n)\n",
    "\n",
    "n = 0\n",
    "n +=1\n",
    "\n",
    "print(n)"
   ]
  },
  {
   "cell_type": "code",
   "execution_count": 12,
   "metadata": {},
   "outputs": [
    {
     "name": "stdout",
     "output_type": "stream",
     "text": [
      "5\n",
      "4\n",
      "3\n",
      "2\n"
     ]
    }
   ],
   "source": [
    "for i in range(5, 1, -1):\n",
    "    print(i)\n",
    "    \n"
   ]
  },
  {
   "cell_type": "code",
   "execution_count": 1,
   "metadata": {},
   "outputs": [
    {
     "name": "stdout",
     "output_type": "stream",
     "text": [
      "[1, 2]\n"
     ]
    }
   ],
   "source": [
    "my_list = [n for n in range(1, 3)];\n",
    "print(my_list)"
   ]
  },
  {
   "cell_type": "code",
   "execution_count": 3,
   "metadata": {},
   "outputs": [
    {
     "name": "stdout",
     "output_type": "stream",
     "text": [
      "133\n"
     ]
    }
   ],
   "source": [
    "a = lambda x, y : x*y\n",
    "print(a(7,19))"
   ]
  },
  {
   "cell_type": "code",
   "execution_count": 6,
   "metadata": {},
   "outputs": [
    {
     "data": {
      "text/plain": [
       "'eMMnNUEl'"
      ]
     },
     "execution_count": 6,
     "metadata": {},
     "output_type": "execute_result"
    }
   ],
   "source": [
    "string = 'EmmNnueL'\n",
    "string.swapcase()\n"
   ]
  },
  {
   "cell_type": "code",
   "execution_count": 8,
   "metadata": {},
   "outputs": [
    {
     "name": "stdout",
     "output_type": "stream",
     "text": [
      "Hello\n",
      "Welcome\n",
      "I am not a cow\n"
     ]
    }
   ],
   "source": [
    "def myFunc(*argv):\n",
    "    for var in argv:\n",
    "        print(var)\n",
    "\n",
    "\n",
    "myFunc(\"Hello\", \"Welcome\", 'I am not a cow')"
   ]
  },
  {
   "cell_type": "code",
   "execution_count": 4,
   "metadata": {},
   "outputs": [
    {
     "name": "stdout",
     "output_type": "stream",
     "text": [
      "[1, 1, 2, 2, 3, 3, 4, 5, 6, 7]\n",
      "{1, 2, 3, 4, 5, 6, 7}\n"
     ]
    }
   ],
   "source": [
    "num = [1,1,2,2,3,3,4,5,6,7]\n",
    "\n",
    "print(num)\n",
    "\n",
    "unique_num = set(num)\n",
    "\n",
    "print(unique_num)"
   ]
  }
 ],
 "metadata": {
  "kernelspec": {
   "display_name": "Python 3",
   "language": "python",
   "name": "python3"
  },
  "language_info": {
   "codemirror_mode": {
    "name": "ipython",
    "version": 3
   },
   "file_extension": ".py",
   "mimetype": "text/x-python",
   "name": "python",
   "nbconvert_exporter": "python",
   "pygments_lexer": "ipython3",
   "version": "3.13.0"
  }
 },
 "nbformat": 4,
 "nbformat_minor": 2
}
