{
 "cells": [
  {
   "cell_type": "code",
   "execution_count": 4,
   "metadata": {},
   "outputs": [
    {
     "name": "stdout",
     "output_type": "stream",
     "text": [
      "The price is $10.99 for one pizza\n",
      "Your gpa is:  3.2\n"
     ]
    }
   ],
   "source": [
    "food = \"pizza\"\n",
    "email = \"Bro123@fake.com\"\n",
    "\n",
    "\n",
    "#Integers\n",
    "age = 25\n",
    "quantity = 3\n",
    "num_of_students = 30\n",
    "\n",
    "# floats\n",
    "price = 10.99\n",
    "gpa = 3.2\n",
    "\n",
    "print(f\"The price is ${price} for one pizza\")\n",
    "print(\"Your gpa is: \",gpa)"
   ]
  },
  {
   "cell_type": "code",
   "execution_count": 9,
   "metadata": {},
   "outputs": [
    {
     "name": "stdout",
     "output_type": "stream",
     "text": [
      "Are you a student?: False\n"
     ]
    }
   ],
   "source": [
    "# Boolean\n",
    "is_student = False\n",
    "print(f\"Are you a student?: {is_student}\")"
   ]
  },
  {
   "cell_type": "code",
   "execution_count": 10,
   "metadata": {},
   "outputs": [
    {
     "name": "stdout",
     "output_type": "stream",
     "text": [
      "You are NOT a student\n"
     ]
    }
   ],
   "source": [
    "if is_student:\n",
    "    print(\"You are a student\")\n",
    "else:\n",
    "    print(\"You are NOT a student\")"
   ]
  }
 ],
 "metadata": {
  "kernelspec": {
   "display_name": "Python 3",
   "language": "python",
   "name": "python3"
  },
  "language_info": {
   "codemirror_mode": {
    "name": "ipython",
    "version": 3
   },
   "file_extension": ".py",
   "mimetype": "text/x-python",
   "name": "python",
   "nbconvert_exporter": "python",
   "pygments_lexer": "ipython3",
   "version": "3.13.0"
  }
 },
 "nbformat": 4,
 "nbformat_minor": 2
}
