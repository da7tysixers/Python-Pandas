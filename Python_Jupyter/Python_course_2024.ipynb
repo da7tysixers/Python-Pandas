{
 "cells": [
  {
   "cell_type": "code",
   "execution_count": 2,
   "metadata": {},
   "outputs": [
    {
     "name": "stdout",
     "output_type": "stream",
     "text": [
      "The price is 10.99 for one pizza\n"
     ]
    }
   ],
   "source": [
    "food = \"pizza\"\n",
    "email = \"Bro123@fake.com\"\n",
    "\n",
    "\n",
    "#Integers\n",
    "age = 25\n",
    "quantity = 3\n",
    "num_of_students = 30\n",
    "\n",
    "# floats\n",
    "price = 10.99\n",
    "\n",
    "print(f\"The price is {price} for one pizza\")"
   ]
  }
 ],
 "metadata": {
  "kernelspec": {
   "display_name": "Python 3",
   "language": "python",
   "name": "python3"
  },
  "language_info": {
   "codemirror_mode": {
    "name": "ipython",
    "version": 3
   },
   "file_extension": ".py",
   "mimetype": "text/x-python",
   "name": "python",
   "nbconvert_exporter": "python",
   "pygments_lexer": "ipython3",
   "version": "3.13.0"
  }
 },
 "nbformat": 4,
 "nbformat_minor": 2
}
