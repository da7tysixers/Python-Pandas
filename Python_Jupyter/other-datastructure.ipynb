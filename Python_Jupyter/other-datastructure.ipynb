{
 "cells": [
  {
   "cell_type": "markdown",
   "metadata": {},
   "source": [
    "## Data Structures\n",
    "The trick is that it is all about state!"
   ]
  },
  {
   "cell_type": "code",
   "execution_count": 2,
   "metadata": {},
   "outputs": [],
   "source": [
    "import os\n",
    "for item in os.listdir('sample_data'):\n",
    "    if os.path.isdir(item):\n",
    "        print(\"This is a directory {0}\".format(item))\n",
    "    else:\n",
    "        print(\"This is a file {0}\".format(item))"
   ]
  },
  {
   "cell_type": "code",
   "execution_count": 3,
   "metadata": {},
   "outputs": [
    {
     "name": "stdout",
     "output_type": "stream",
     "text": [
      "['.sound']\n",
      "['.sound']\n",
      "['.sound']\n",
      "['.sound']\n",
      "['.sound']\n",
      "['.sound']\n",
      "['.sound', 'sample_data']\n"
     ]
    }
   ],
   "source": [
    "# Looping is easy, but what about state?\n",
    "# here state is captured in a new variable called \"important directories\"\n",
    "important_directories = []\n",
    "for item in os.listdir('.'):\n",
    "    if os.path.isdir(item):\n",
    "        important_directories.append(item)\n",
    "    print(important_directories)"
   ]
  },
  {
   "cell_type": "code",
   "execution_count": 26,
   "metadata": {},
   "outputs": [
    {
     "name": "stdout",
     "output_type": "stream",
     "text": [
      "dataStructure.ipynb\n",
      "iterating-lists.ipynb\n",
      "jupyterCourse.ipynb\n",
      "other-datastructure.ipynb\n",
      "sample_data\n"
     ]
    }
   ],
   "source": [
    "list_direc = os.listdir('.')\n",
    "for item in list_direc:\n",
    "    print(item)"
   ]
  },
  {
   "cell_type": "code",
   "execution_count": 4,
   "metadata": {},
   "outputs": [
    {
     "name": "stdout",
     "output_type": "stream",
     "text": [
      "['.sound', 'sample_data']\n"
     ]
    }
   ],
   "source": [
    "important_directories = []\n",
    "for item in os.listdir('.'):\n",
    "    if item.startswith('_'):\n",
    "        continue # flow control\n",
    "    if os.path.isdir(item):\n",
    "        important_directories.append(item)\n",
    "print(important_directories)"
   ]
  },
  {
   "cell_type": "code",
   "execution_count": 63,
   "metadata": {},
   "outputs": [
    {
     "name": "stdout",
     "output_type": "stream",
     "text": [
      "protocol is: https:\n",
      "colab.research.com\n",
      "oreilly\n",
      "The first item is: first\n",
      "second\n"
     ]
    },
    {
     "data": {
      "text/plain": [
       "3"
      ]
     },
     "execution_count": 63,
     "metadata": {},
     "output_type": "execute_result"
    }
   ],
   "source": [
    "items = ['first', 'second', 'third', 'foo']\n",
    "#items[-1]\n",
    "\n",
    "url = \"https://colab.research.com/drive/asdfjhasdf/alfredo/oreilly\"\n",
    "parts = url.split('/')\n",
    "\n",
    "#print(parts)\n",
    "#print(parts[3:])\n",
    "protocol, _, fqdn = parts[:3]\n",
    "print(\"protocol is: %s\" % protocol)\n",
    "print(fqdn)\n",
    "company = parts[-1]\n",
    "print(company)\n",
    "\n",
    "print(\"The first item is: {0}\".format(items[0]))\n",
    "print(items[1])\n",
    "\n",
    "items.index('foo')\n"
   ]
  },
  {
   "cell_type": "markdown",
   "metadata": {},
   "source": [
    "## Tuples\n",
    "Shoud be treated as \"read only\" lists, the difference are subtle!"
   ]
  },
  {
   "cell_type": "code",
   "execution_count": 74,
   "metadata": {},
   "outputs": [
    {
     "name": "stdout",
     "output_type": "stream",
     "text": [
      "first item in the tuple is: 0\n",
      "third\n",
      "============\n",
      "first\n",
      "second\n",
      "third\n"
     ]
    }
   ],
   "source": [
    "ro_items = ('first', 'second', 'third')\n",
    "print(\"first item in the tuple is: %s\" % ro_items.index('first'))\n",
    "print(ro_items[-1])\n",
    "print(\"============\")\n",
    "for item in ro_items:\n",
    "    print(item)"
   ]
  },
  {
   "cell_type": "code",
   "execution_count": 79,
   "metadata": {},
   "outputs": [
    {
     "name": "stdout",
     "output_type": "stream",
     "text": [
      "count\n",
      "index\n"
     ]
    }
   ],
   "source": [
    " #Find out what methods are available in a tuple. Tuples are also immutable\n",
    "for method in dir(tuple()):\n",
    "    if method.startswith('__'):\n",
    "        #print(method)\n",
    "        continue\n",
    "    print(method)\n",
    "\n",
    "#ro_items.append('a') will throw an error"
   ]
  },
  {
   "cell_type": "markdown",
   "metadata": {},
   "source": [
    "## Sets\n",
    "Sets are like lists, they look like dictonaries, but they allow us to keep unique items\n"
   ]
  },
  {
   "cell_type": "code",
   "execution_count": 84,
   "metadata": {},
   "outputs": [
    {
     "name": "stdout",
     "output_type": "stream",
     "text": [
      "2\n",
      "{'one'}\n"
     ]
    }
   ],
   "source": [
    "# creating an empty set\n",
    "unique = set()\n",
    "# add items with .add()\n",
    "unique.add(\"one\")\n",
    "unique.add(\"two\")\n",
    "unique.add(\"one\")\n",
    "\n",
    "print(len(unique))\n",
    "\n",
    "unique.pop()\n",
    "print(unique)"
   ]
  },
  {
   "cell_type": "markdown",
   "metadata": {},
   "source": [
    "## List Comprehensions\n",
    "So easy to abuse! be careful and use it wisely."
   ]
  },
  {
   "cell_type": "code",
   "execution_count": 86,
   "metadata": {},
   "outputs": [
    {
     "name": "stdout",
     "output_type": "stream",
     "text": [
      "[]\n",
      "['1']\n",
      "['1', '23']\n",
      "['1', '23']\n",
      "['1', '23', '4']\n",
      "['1', '23', '4']\n",
      "['1', '23', '4']\n"
     ]
    }
   ],
   "source": [
    "items = ['a', '1', '23', 'b', '4', 'c', 'd']\n",
    "numeric = []\n",
    "for item in items:\n",
    "    if item.isnumeric():\n",
    "        numeric.append(item)\n",
    "    print(numeric)"
   ]
  },
  {
   "cell_type": "code",
   "execution_count": 89,
   "metadata": {},
   "outputs": [
    {
     "name": "stdout",
     "output_type": "stream",
     "text": [
      "3\n"
     ]
    }
   ],
   "source": [
    "# notice the 'if' condition at the end, is this more readable? or less?\n",
    "inlined_numeric = [item for item in items if item.isnumeric()]\n",
    "inlined_numeric\n",
    "#print(len(inlined_numeric))"
   ]
  },
  {
   "cell_type": "code",
   "execution_count": 93,
   "metadata": {},
   "outputs": [
    {
     "name": "stdout",
     "output_type": "stream",
     "text": [
      "2\n"
     ]
    },
    {
     "data": {
      "text/plain": [
       "[['a', '1', '23', 'b', '4', 'c', 'd'], ['a', '1', '23', 'b', '4', 'c', 'd']]"
      ]
     },
     "execution_count": 93,
     "metadata": {},
     "output_type": "execute_result"
    }
   ],
   "source": [
    "# doubly nested items are ususally targetted for list comprehensions\n",
    "items = ['a', '1', '23', 'b', '4', 'c', 'd']\n",
    "nested_items = [items, items]\n",
    "print(len(nested_items))\n",
    "nested_items"
   ]
  },
  {
   "cell_type": "code",
   "execution_count": 94,
   "metadata": {},
   "outputs": [
    {
     "data": {
      "text/plain": [
       "['1', '23', '4', '1', '23', '4']"
      ]
     },
     "execution_count": 94,
     "metadata": {},
     "output_type": "execute_result"
    }
   ],
   "source": [
    "numeric = []\n",
    "for parent in nested_items:\n",
    "    for item in parent:\n",
    "        if item.isnumeric():\n",
    "            numeric.append(item)\n",
    "numeric"
   ]
  },
  {
   "cell_type": "code",
   "execution_count": 98,
   "metadata": {},
   "outputs": [
    {
     "data": {
      "text/plain": [
       "['1', '1', '23', '23', '4', '4']"
      ]
     },
     "execution_count": 98,
     "metadata": {},
     "output_type": "execute_result"
    }
   ],
   "source": [
    "# and now with list comprehension\n",
    "numeric = [item for item in parent for parent in nested_items if item.isnumeric()]\n",
    "\n",
    "numeric"
   ]
  },
  {
   "cell_type": "code",
   "execution_count": 109,
   "metadata": {},
   "outputs": [
    {
     "data": {
      "text/plain": [
       "['1', '1', '23', '23', '4', '4']"
      ]
     },
     "execution_count": 109,
     "metadata": {},
     "output_type": "execute_result"
    }
   ],
   "source": [
    "# this can improve readability\n",
    "numeric = [\n",
    " item for item in parent\n",
    "        for parent in nested_items\n",
    "            if item.isnumeric()  \n",
    "]\n",
    "\n",
    "numeric"
   ]
  },
  {
   "cell_type": "markdown",
   "metadata": {},
   "source": [
    "## The Awesome Dictionary\n",
    "One of my favorite are mappings, usually referred to as key/value mappings."
   ]
  },
  {
   "cell_type": "code",
   "execution_count": 112,
   "metadata": {},
   "outputs": [
    {
     "data": {
      "text/plain": [
       "{'alfredo': '405-886-3312', 'noah': '980-555-5555'}"
      ]
     },
     "execution_count": 112,
     "metadata": {},
     "output_type": "execute_result"
    }
   ],
   "source": [
    "# dictionary are mappings, ususally referred to as key/value mappings.\n",
    "contacts = {\n",
    "    'alfredo': '405-886-3312',\n",
    "    'noah': '980-555-5555'\n",
    "}\n",
    "\n",
    "contacts\n"
   ]
  },
  {
   "cell_type": "code",
   "execution_count": 113,
   "metadata": {},
   "outputs": [
    {
     "data": {
      "text/plain": [
       "dict_keys(['alfredo', 'noah'])"
      ]
     },
     "execution_count": 113,
     "metadata": {},
     "output_type": "execute_result"
    }
   ],
   "source": [
    "contacts.keys()"
   ]
  },
  {
   "cell_type": "code",
   "execution_count": 114,
   "metadata": {},
   "outputs": [
    {
     "data": {
      "text/plain": [
       "dict_values(['405-886-3312', '980-555-5555'])"
      ]
     },
     "execution_count": 114,
     "metadata": {},
     "output_type": "execute_result"
    }
   ],
   "source": [
    "contacts.values()"
   ]
  },
  {
   "cell_type": "code",
   "execution_count": 120,
   "metadata": {},
   "outputs": [
    {
     "name": "stdout",
     "output_type": "stream",
     "text": [
      "alfredo\n",
      "noah\n",
      "key is alfredo, and value is: 405-886-3312\n",
      "key is noah, and value is: 980-555-5555\n"
     ]
    }
   ],
   "source": [
    "# looping over dictionary defaul to 'keys()' and you can loop over both keys and values\n",
    "for key in contacts:\n",
    "    print(key)\n",
    "\n",
    "for name, phone in contacts.items():\n",
    "    print(\"key is {0}, and value is: {1}\".format(name, phone))\n",
    "\n",
    "# treat dictionaries like a small database, with cheap (and fast!) success\n",
    "    #contacts['john']"
   ]
  },
  {
   "cell_type": "code",
   "execution_count": 123,
   "metadata": {},
   "outputs": [
    {
     "name": "stdout",
     "output_type": "stream",
     "text": [
      "Peter\n",
      "Peter\n"
     ]
    },
    {
     "data": {
      "text/plain": [
       "'980-555-5555'"
      ]
     },
     "execution_count": 123,
     "metadata": {},
     "output_type": "execute_result"
    }
   ],
   "source": [
    "# Super way to fall back when things do not exist\n",
    "print(contacts.get('john', \"Peter\"))\n",
    "\n",
    "try:\n",
    "    contacts['john']\n",
    "except KeyError:\n",
    "    print(\"Peter\")\n",
    "\n",
    "#contacts['noah']\n"
   ]
  },
  {
   "cell_type": "markdown",
   "metadata": {},
   "source": [
    "#### Walking the filesystem, inspecting files\n",
    "Python has built-in utilities to walk the filesystem. It is a bit clunky, and creating something usful requires stiching things together to produce good output."
   ]
  },
  {
   "cell_type": "code",
   "execution_count": 124,
   "metadata": {},
   "outputs": [
    {
     "name": "stdout",
     "output_type": "stream",
     "text": [
      "('.', ['.sound', 'sample_data'], ['dataStructure.ipynb', 'iterating-lists.ipynb', 'jupyterCourse.ipynb', 'other-datastructure.ipynb'])\n"
     ]
    }
   ],
   "source": [
    "import os\n",
    "# yeilds the 'current'dir, then the directories, and then any files it finds\n",
    "# for each level it traverse\n",
    "for path_info in os.walk('.'):\n",
    "    print(path_info)\n",
    "    break"
   ]
  },
  {
   "cell_type": "code",
   "execution_count": 125,
   "metadata": {},
   "outputs": [
    {
     "name": "stdout",
     "output_type": "stream",
     "text": [
      "c:\\Users\\da7ty\\Study 2024\\Python course\\Python_Jupyter\\.sound\n",
      "c:\\Users\\da7ty\\Study 2024\\Python course\\Python_Jupyter\\sample_data\n",
      "c:\\Users\\da7ty\\Study 2024\\Python course\\Python_Jupyter\\dataStructure.ipynb\n",
      "c:\\Users\\da7ty\\Study 2024\\Python course\\Python_Jupyter\\iterating-lists.ipynb\n",
      "c:\\Users\\da7ty\\Study 2024\\Python course\\Python_Jupyter\\jupyterCourse.ipynb\n",
      "c:\\Users\\da7ty\\Study 2024\\Python course\\Python_Jupyter\\other-datastructure.ipynb\n"
     ]
    }
   ],
   "source": [
    "import os\n",
    "from os.path import abspath, join\n",
    "# producing absolute paths, instead of a tuple of three items\n",
    "for top_dir, directories, files in os.walk('.'):\n",
    "    for directory in directories:\n",
    "        print(abspath(join(top_dir, directory)))\n",
    "    for _file in files:\n",
    "        print(abspath(join(top_dir, _file)))\n",
    "    break"
   ]
  },
  {
   "cell_type": "code",
   "execution_count": 128,
   "metadata": {},
   "outputs": [
    {
     "data": {
      "text/plain": [
       "0.00011491775512695312"
      ]
     },
     "execution_count": 128,
     "metadata": {},
     "output_type": "execute_result"
    }
   ],
   "source": [
    "import time\n",
    "now = time.time()\n",
    "\n",
    "now\n",
    "time.time() - now"
   ]
  },
  {
   "cell_type": "markdown",
   "metadata": {},
   "source": [
    "##### Working with Assert\n",
    "Assert are normally used during debugging. They are disabled when running production codes."
   ]
  },
  {
   "cell_type": "code",
   "execution_count": 131,
   "metadata": {},
   "outputs": [
    {
     "ename": "AssertionError",
     "evalue": "You didn't think that was true?!",
     "output_type": "error",
     "traceback": [
      "\u001b[1;31m---------------------------------------------------------------------------\u001b[0m",
      "\u001b[1;31mAssertionError\u001b[0m                            Traceback (most recent call last)",
      "Cell \u001b[1;32mIn[131], line 2\u001b[0m\n\u001b[0;32m      1\u001b[0m \u001b[38;5;66;03m##assert 1 == 2\u001b[39;00m\n\u001b[1;32m----> 2\u001b[0m \u001b[38;5;28;01massert\u001b[39;00m \u001b[38;5;241m1\u001b[39m \u001b[38;5;241m==\u001b[39m \u001b[38;5;241m2\u001b[39m, \u001b[38;5;124m\"\u001b[39m\u001b[38;5;124mYou didn\u001b[39m\u001b[38;5;124m'\u001b[39m\u001b[38;5;124mt think that was true?!\u001b[39m\u001b[38;5;124m\"\u001b[39m\n",
      "\u001b[1;31mAssertionError\u001b[0m: You didn't think that was true?!"
     ]
    }
   ],
   "source": [
    "##assert 1 == 2\n",
    "assert 1 == 2, \"You didn't think that was true?!\""
   ]
  }
 ],
 "metadata": {
  "kernelspec": {
   "display_name": "Python 3",
   "language": "python",
   "name": "python3"
  },
  "language_info": {
   "codemirror_mode": {
    "name": "ipython",
    "version": 3
   },
   "file_extension": ".py",
   "mimetype": "text/x-python",
   "name": "python",
   "nbconvert_exporter": "python",
   "pygments_lexer": "ipython3",
   "version": "3.13.0"
  }
 },
 "nbformat": 4,
 "nbformat_minor": 2
}
