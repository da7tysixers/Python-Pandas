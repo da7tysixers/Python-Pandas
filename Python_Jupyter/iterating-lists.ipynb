{
 "cells": [
  {
   "cell_type": "markdown",
   "metadata": {},
   "source": [
    "## List Tutorial\n",
    "Creating Lists and looping through it and applying it to another list."
   ]
  },
  {
   "cell_type": "code",
   "execution_count": 4,
   "metadata": {},
   "outputs": [
    {
     "name": "stdout",
     "output_type": "stream",
     "text": [
      "10\n",
      "[2, 3, 4, 5, 13, 12, 6, 7, 8, 9]\n"
     ]
    }
   ],
   "source": [
    "numbers = [2, 3, 4, 5, 13, 12, 6, 7, 8, 9, 20]\n",
    "\n",
    "low_numbers = [n for n in numbers if n != 20]\n",
    "\n",
    "print(len(low_numbers))\n",
    "print(low_numbers)"
   ]
  },
  {
   "cell_type": "code",
   "execution_count": null,
   "metadata": {},
   "outputs": [],
   "source": []
  }
 ],
 "metadata": {
  "kernelspec": {
   "display_name": "Python 3",
   "language": "python",
   "name": "python3"
  },
  "language_info": {
   "codemirror_mode": {
    "name": "ipython",
    "version": 3
   },
   "file_extension": ".py",
   "mimetype": "text/x-python",
   "name": "python",
   "nbconvert_exporter": "python",
   "pygments_lexer": "ipython3",
   "version": "3.13.0"
  }
 },
 "nbformat": 4,
 "nbformat_minor": 2
}
