{
 "cells": [
  {
   "cell_type": "code",
   "execution_count": 3,
   "metadata": {},
   "outputs": [
    {
     "name": "stdout",
     "output_type": "stream",
     "text": [
      "time.struct_time(tm_year=2024, tm_mon=11, tm_mday=29, tm_hour=15, tm_min=38, tm_sec=28, tm_wday=4, tm_yday=334, tm_isdst=0)\n"
     ]
    }
   ],
   "source": [
    "import time\n",
    "\n",
    "current_time = time.localtime(time.time())\n",
    "\n",
    "print(current_time)"
   ]
  },
  {
   "cell_type": "code",
   "execution_count": 2,
   "metadata": {},
   "outputs": [
    {
     "name": "stdout",
     "output_type": "stream",
     "text": [
      "5\n",
      "How to Use Full Pushdown\n",
      "Optimization in PowerCenter\n",
      "© Copyright Informatica LLC 2014, 2021. Informatica Corporation. No part of this document may be reproduced or\n",
      "transmitted in any form, by any means (electronic, photocopying, recording or otherwise) without prior consent of\n",
      "Informatica Corporation. All other company and product names may be trade names or trademarks of their\n",
      "respective owners and/or copyrighted materials of such owners.\n"
     ]
    }
   ],
   "source": [
    "import pdfplumber\n",
    "\n",
    "readfile = pdfplumber.open('Sample-Data/Pushdown.pdf')\n",
    "\n",
    "print(len(readfile.pages))\n",
    "\n",
    "page = readfile.pages[0]\n",
    "\n",
    "print(page.extract_text())"
   ]
  },
  {
   "cell_type": "code",
   "execution_count": null,
   "metadata": {},
   "outputs": [],
   "source": []
  }
 ],
 "metadata": {
  "kernelspec": {
   "display_name": "Python 3",
   "language": "python",
   "name": "python3"
  },
  "language_info": {
   "codemirror_mode": {
    "name": "ipython",
    "version": 3
   },
   "file_extension": ".py",
   "mimetype": "text/x-python",
   "name": "python",
   "nbconvert_exporter": "python",
   "pygments_lexer": "ipython3",
   "version": "3.13.0"
  }
 },
 "nbformat": 4,
 "nbformat_minor": 2
}
