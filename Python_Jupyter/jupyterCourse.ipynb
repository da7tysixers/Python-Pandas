{
 "cells": [
  {
   "cell_type": "markdown",
   "metadata": {},
   "source": [
    "# My First Notebook\n"
   ]
  },
  {
   "cell_type": "code",
   "execution_count": 1,
   "metadata": {},
   "outputs": [
    {
     "name": "stdout",
     "output_type": "stream",
     "text": [
      "Hello World\n"
     ]
    }
   ],
   "source": [
    "print('Hello World') "
   ]
  },
  {
   "cell_type": "code",
   "execution_count": 8,
   "metadata": {},
   "outputs": [],
   "source": [
    "#assigning variables\n",
    "name = \"Alfredo\"\n",
    "last_name = \"Deza\"\n"
   ]
  },
  {
   "cell_type": "code",
   "execution_count": 9,
   "metadata": {},
   "outputs": [
    {
     "name": "stdout",
     "output_type": "stream",
     "text": [
      "<class 'int'>\n",
      "100\n"
     ]
    }
   ],
   "source": [
    "height = \"10000\"\n",
    "height = int(height)\n",
    "print(type(height))\n",
    "\n",
    "total = height//100\n",
    "print(total)"
   ]
  },
  {
   "cell_type": "code",
   "execution_count": 13,
   "metadata": {},
   "outputs": [
    {
     "name": "stdout",
     "output_type": "stream",
     "text": [
      "My name isn't John. He said, \"call me Noah\". \n",
      "okay\n"
     ]
    }
   ],
   "source": [
    "#String can use single quote, double quote and triple qoute.\n",
    "# Triple quote is useful when applying single or double within a string.\n",
    "summary = \"\"\"My name isn't John. He said, \"call me Noah\". \\nokay\"\"\"\n",
    "\n",
    "print(summary)\n",
    "\n"
   ]
  },
  {
   "cell_type": "code",
   "execution_count": 26,
   "metadata": {},
   "outputs": [
    {
     "name": "stdout",
     "output_type": "stream",
     "text": [
      " Isn't that the man that is wanted in New York?\n"
     ]
    }
   ],
   "source": [
    "#Use single quote inside a double quote in python.\n",
    "summary = \" Isn't that the man that is wanted in New York?\"\n",
    "print(summary)"
   ]
  },
  {
   "cell_type": "code",
   "execution_count": 20,
   "metadata": {},
   "outputs": [
    {
     "name": "stdout",
     "output_type": "stream",
     "text": [
      "His name is Alfredo. He is from Chicago\n",
      "His name is Alfredo\n",
      "John is running in lane 2\n",
      "Alfredo is you\n"
     ]
    }
   ],
   "source": [
    "#Concatenate existing string with another string.\n",
    "name = \"Alfredo\"\n",
    "result = f\"His name is {name}. He is from Chicago\"\n",
    "print(result)\n",
    "result_two = \"His name is \" + name\n",
    "print(result_two)\n",
    "\n",
    "\n",
    "name_2 = \"John\"\n",
    "print(f\"{name_2} is running in lane 2\")\n",
    "print(name,\"is you\")"
   ]
  },
  {
   "cell_type": "code",
   "execution_count": 5,
   "metadata": {},
   "outputs": [
    {
     "name": "stdout",
     "output_type": "stream",
     "text": [
      "<class 'float'>\n",
      "<class 'int'>\n",
      "5.0\n"
     ]
    }
   ],
   "source": [
    "#Use Int mathematical calculation or symbol. You can use the type() to check data type\n",
    "7 + int(\"14\") #converts string into int.\n",
    "print(type(10/2))\n",
    "#You cannot divide by zero.\n",
    "\n",
    "print(type(10))\n",
    "print(10/ float(\"2.0\"))"
   ]
  },
  {
   "cell_type": "markdown",
   "metadata": {},
   "source": [
    "Booleans\n",
    "Booleans (type bool) are represented natively in Python by TRUE and FALSE. Be aware that other types can represent true or false (often named truthly values) like 1 and 0. This is especially critical to grsp when working with conditionals."
   ]
  },
  {
   "cell_type": "code",
   "execution_count": 45,
   "metadata": {},
   "outputs": [
    {
     "name": "stdout",
     "output_type": "stream",
     "text": [
      "False\n"
     ]
    }
   ],
   "source": [
    "type(True)\n",
    "bool(1)\n",
    "bool(0)\n",
    "print(bool(0))"
   ]
  },
  {
   "cell_type": "code",
   "execution_count": 48,
   "metadata": {},
   "outputs": [
    {
     "data": {
      "text/plain": [
       "NoneType"
      ]
     },
     "execution_count": 48,
     "metadata": {},
     "output_type": "execute_result"
    }
   ],
   "source": [
    "#None indicates a null value. Its type is NoneType and you might encounter it when running function in python\n",
    "type(None)"
   ]
  },
  {
   "cell_type": "code",
   "execution_count": 7,
   "metadata": {},
   "outputs": [
    {
     "name": "stdout",
     "output_type": "stream",
     "text": [
      "The condition was not met\n",
      "It is true\n"
     ]
    }
   ],
   "source": [
    "#If Conditional evaluation.\n",
    "condition = False\n",
    "if condition:\n",
    "    print(\"The condition was met\")\n",
    "else:\n",
    "    print(\"The condition was not met\")\n",
    "    \n",
    "\n",
    "response = True\n",
    "if response:\n",
    "    print(\"It is true\")\n",
    "else:\n",
    "    print(\"It is false\")"
   ]
  },
  {
   "cell_type": "code",
   "execution_count": 22,
   "metadata": {},
   "outputs": [
    {
     "name": "stdout",
     "output_type": "stream",
     "text": [
      "The condition was met\n"
     ]
    }
   ],
   "source": [
    "condition = True\n",
    "if condition:\n",
    "    print(\"The condition was met\")\n",
    "else:\n",
    "    print(\"The condition was not met\")\n",
    "    "
   ]
  },
  {
   "cell_type": "code",
   "execution_count": null,
   "metadata": {},
   "outputs": [
    {
     "name": "stdout",
     "output_type": "stream",
     "text": [
      "We do not have any groceries\n",
      "We have some invites!\n"
     ]
    }
   ],
   "source": [
    "#Condition with data structure are truthy: False when empty, but true whent they contain items\n",
    "groceries = []\n",
    "if groceries:\n",
    "    print(\"We have groceries\")\n",
    "else:\n",
    "    print(\"We do not have any groceries\")\n",
    "\n",
    "invites = [\"John\", \"George\"]\n",
    "if invites:\n",
    "    print(\"We have some invites!\")\n",
    "else:\n",
    "    print(\"We do not have any invites!\")"
   ]
  },
  {
   "cell_type": "code",
   "execution_count": 24,
   "metadata": {},
   "outputs": [],
   "source": [
    "#Other types like Integers (0, and any psitive integers) are truthy\n",
    "properties = 0\n",
    "if properties:\n",
    "    print(\"We have properties!\")\n",
    "\n",
    "parents = 0\n",
    "if parents:\n",
    "    print(\"We have parents!\")"
   ]
  },
  {
   "cell_type": "code",
   "execution_count": 25,
   "metadata": {},
   "outputs": [
    {
     "name": "stdout",
     "output_type": "stream",
     "text": [
      "no properties\n",
      "there is more than 1 parent\n"
     ]
    }
   ],
   "source": [
    "# Operators are supported in python\n",
    "if properties == 0:\n",
    "    print(\"no properties\")\n",
    "\n",
    "if parents != 1:\n",
    "    print(\"there is more than 1 parent\")\n",
    "    "
   ]
  },
  {
   "cell_type": "code",
   "execution_count": 26,
   "metadata": {},
   "outputs": [
    {
     "name": "stdout",
     "output_type": "stream",
     "text": [
      "We do not have any properties, nor parents\n"
     ]
    }
   ],
   "source": [
    "#elif condition in python.\n",
    "parents = 0\n",
    "if properties:\n",
    "    print(\"We have properties\")\n",
    "elif parents > 1:\n",
    "    print(\"We do not have any properties, but we have parents\")\n",
    "else:\n",
    "    print(\"We do not have any properties, nor parents\")"
   ]
  },
  {
   "cell_type": "code",
   "execution_count": 28,
   "metadata": {},
   "outputs": [
    {
     "name": "stdout",
     "output_type": "stream",
     "text": [
      "Nothing to show\n"
     ]
    }
   ],
   "source": [
    "# Nagetive condition using None\n",
    "name = \"Go\"\n",
    "tribe = True\n",
    "if not name and not tribe:\n",
    "    print(\"Didn't get an name\")\n",
    "else:\n",
    "    print(\"Nothing to show\")"
   ]
  },
  {
   "cell_type": "code",
   "execution_count": 27,
   "metadata": {},
   "outputs": [
    {
     "name": "stdout",
     "output_type": "stream",
     "text": [
      "No last name either\n",
      "Alfredo\n"
     ]
    }
   ],
   "source": [
    "# Same is possible with elif conditions\n",
    "last_name = None\n",
    "if not name:\n",
    "    print(\"No name!\")\n",
    "elif not last_name:\n",
    "    print(\"No last name either\")\n",
    "    print(name)"
   ]
  },
  {
   "cell_type": "code",
   "execution_count": 5,
   "metadata": {},
   "outputs": [
    {
     "name": "stdout",
     "output_type": "stream",
     "text": [
      "Has kids, but is not married\n"
     ]
    }
   ],
   "source": [
    "# Condition Compounding:\n",
    "has_kids = True\n",
    "married = False\n",
    "if has_kids and married:\n",
    "    print(\"Has kids and is married\")\n",
    "elif has_kids == True and married == False:\n",
    "    print(\"Has kids, but is not married\")"
   ]
  },
  {
   "cell_type": "code",
   "execution_count": 19,
   "metadata": {},
   "outputs": [
    {
     "name": "stdout",
     "output_type": "stream",
     "text": [
      "User not logged in!\n"
     ]
    }
   ],
   "source": [
    "# not can be used as well but can get harder to read.\n",
    "likes_books = False\n",
    "is_logged_in = False\n",
    "if not likes_books and not is_logged_in:\n",
    "    print(\"User not logged in!\")"
   ]
  },
  {
   "cell_type": "markdown",
   "metadata": {},
   "source": []
  },
  {
   "cell_type": "code",
   "execution_count": 29,
   "metadata": {},
   "outputs": [
    {
     "ename": "ZeroDivisionError",
     "evalue": "division by zero",
     "output_type": "error",
     "traceback": [
      "\u001b[1;31m---------------------------------------------------------------------------\u001b[0m",
      "\u001b[1;31mZeroDivisionError\u001b[0m                         Traceback (most recent call last)",
      "Cell \u001b[1;32mIn[29], line 2\u001b[0m\n\u001b[0;32m      1\u001b[0m \u001b[38;5;66;03m# Try catch exception.\u001b[39;00m\n\u001b[1;32m----> 2\u001b[0m \u001b[38;5;241;43m14\u001b[39;49m\u001b[38;5;241;43m/\u001b[39;49m\u001b[38;5;241;43m0\u001b[39;49m\n",
      "\u001b[1;31mZeroDivisionError\u001b[0m: division by zero"
     ]
    }
   ],
   "source": [
    "# Try catch exception.\n",
    "14/0"
   ]
  },
  {
   "cell_type": "code",
   "execution_count": 6,
   "metadata": {},
   "outputs": [
    {
     "ename": "RuntimeError",
     "evalue": "this is a problem!",
     "output_type": "error",
     "traceback": [
      "\u001b[1;31m---------------------------------------------------------------------------\u001b[0m",
      "\u001b[1;31mRuntimeError\u001b[0m                              Traceback (most recent call last)",
      "Cell \u001b[1;32mIn[6], line 2\u001b[0m\n\u001b[0;32m      1\u001b[0m \u001b[38;5;66;03m# Exception\u001b[39;00m\n\u001b[1;32m----> 2\u001b[0m \u001b[38;5;28;01mraise\u001b[39;00m \u001b[38;5;167;01mRuntimeError\u001b[39;00m(\u001b[38;5;124m\"\u001b[39m\u001b[38;5;124mthis is a problem!\u001b[39m\u001b[38;5;124m\"\u001b[39m)\n",
      "\u001b[1;31mRuntimeError\u001b[0m: this is a problem!"
     ]
    }
   ],
   "source": [
    "# Exception\n",
    "raise RuntimeError(\"this is a problem!\")"
   ]
  },
  {
   "cell_type": "code",
   "execution_count": 7,
   "metadata": {},
   "outputs": [
    {
     "name": "stdout",
     "output_type": "stream",
     "text": [
      "7.0\n"
     ]
    }
   ],
   "source": [
    "# Catch exception you are going to handle.\n",
    "#Exceptions are very useful.\n",
    "try:\n",
    "    # Some intense operation that causes an error\n",
    "    result = 14 / 0\n",
    "except:\n",
    "    # do something else here.\n",
    "    result = 14 / 2\n",
    "\n",
    "print(result)\n"
   ]
  },
  {
   "cell_type": "code",
   "execution_count": 14,
   "metadata": {},
   "outputs": [
    {
     "name": "stdout",
     "output_type": "stream",
     "text": [
      "5.0 is the answer. Division by zero not possible.\n"
     ]
    }
   ],
   "source": [
    "try:\n",
    "    answer = 15/0\n",
    "    print(result)\n",
    "except ZeroDivisionError:\n",
    "    answer = 15/3\n",
    "    print(f\"{answer} is the answer. Division by zero not possible.\")\n"
   ]
  },
  {
   "cell_type": "code",
   "execution_count": 16,
   "metadata": {},
   "outputs": [
    {
     "name": "stdout",
     "output_type": "stream",
     "text": [
      "7.0\n"
     ]
    }
   ],
   "source": [
    "# don't get tempted to catch all exceptions\n",
    "try:\n",
    "    # some intense operation that causes an error\n",
    "    result = 14 / 0\n",
    "    raise RuntimeError(\"error\")\n",
    "except Exception:\n",
    "    # do some other intense operation\n",
    "    result = 14 / 2\n",
    "print(result)"
   ]
  },
  {
   "cell_type": "code",
   "execution_count": 17,
   "metadata": {},
   "outputs": [
    {
     "name": "stdout",
     "output_type": "stream",
     "text": [
      "7.0\n"
     ]
    }
   ],
   "source": [
    "# Some intense operation that causes an error\n",
    "try:\n",
    "    # some intense operation that causes an error\n",
    "    result = 14 / 0\n",
    "    result + \"100\"\n",
    "except (ZeroDivisionError, TypeError):\n",
    "    result = 14 / 2\n",
    "print(result)"
   ]
  },
  {
   "cell_type": "code",
   "execution_count": 18,
   "metadata": {},
   "outputs": [
    {
     "name": "stdout",
     "output_type": "stream",
     "text": [
      "got an error --> division by zero\n",
      "7.0\n"
     ]
    }
   ],
   "source": [
    "# assign the resulting exception to a variable\n",
    "try:\n",
    "    # some intense operation that causes an error\n",
    "    result = 14 / 0\n",
    "except ZeroDivisionError as error:\n",
    "    # do some other intense operation\n",
    "    print(f\"got an error --> {error}\")\n",
    "    result = 14 / 2\n",
    "    \n",
    "print(result)"
   ]
  },
  {
   "cell_type": "code",
   "execution_count": 42,
   "metadata": {},
   "outputs": [
    {
     "name": "stdout",
     "output_type": "stream",
     "text": [
      "30\n",
      "Welcome to your dashboard Alfredo!\n",
      "120 7.0\n"
     ]
    }
   ],
   "source": [
    "# Challenge Excersices\n",
    "cost = 20\n",
    "total_cost = 10\n",
    "result = cost + total_cost\n",
    "print(result)\n",
    "\n",
    "# Use f string and input variables to print a customized grettings\n",
    "name = \"Alfredo\"\n",
    "print(f\"Welcome to your dashboard {name}!\")\n",
    "\n",
    "result = 0\n",
    "#result = 20 + \"100\"\n",
    "\n",
    "try:\n",
    "    result = 20 + \"100\"\n",
    "    total = 14\n",
    "    total = 14 / 0\n",
    "except (ZeroDivisionError, TypeError):\n",
    "    result = 20 + int(\"100\")\n",
    "    total = 14 / 2\n",
    "\n",
    "print(result, total)"
   ]
  },
  {
   "cell_type": "code",
   "execution_count": 12,
   "metadata": {},
   "outputs": [
    {
     "data": {
      "text/plain": [
       "{'key': 'Value'}"
      ]
     },
     "execution_count": 12,
     "metadata": {},
     "output_type": "execute_result"
    }
   ],
   "source": [
    "# Python dictionaries are a great way to store data and it is as common as using a list. The dictionary uses key and Values.\n",
    "\n",
    "{\"key\": 'Value'}\n"
   ]
  },
  {
   "cell_type": "code",
   "execution_count": 13,
   "metadata": {},
   "outputs": [
    {
     "data": {
      "text/plain": [
       "{'Groceries': ['milk', 'oil', 'coconut', 'chicken', 'eggs']}"
      ]
     },
     "execution_count": 13,
     "metadata": {},
     "output_type": "execute_result"
    }
   ],
   "source": [
    "# Dictionary with list items\n",
    "{\"Groceries\": ['milk','oil', 'coconut', 'chicken', 'eggs']}\n"
   ]
  },
  {
   "cell_type": "code",
   "execution_count": 14,
   "metadata": {},
   "outputs": [
    {
     "data": {
      "text/plain": [
       "{}"
      ]
     },
     "execution_count": 14,
     "metadata": {},
     "output_type": "execute_result"
    }
   ],
   "source": [
    "contact_information = {}\n",
    "contact_information"
   ]
  },
  {
   "cell_type": "code",
   "execution_count": 15,
   "metadata": {},
   "outputs": [
    {
     "data": {
      "text/plain": [
       "{}"
      ]
     },
     "execution_count": 15,
     "metadata": {},
     "output_type": "execute_result"
    }
   ],
   "source": [
    "# Creating a dictionary using the builtin function\n",
    "contact_information = dict()\n",
    "contact_information"
   ]
  },
  {
   "cell_type": "code",
   "execution_count": 16,
   "metadata": {},
   "outputs": [
    {
     "data": {
      "text/plain": [
       "{'name': 'alfredo', 'lastname': 'deza'}"
      ]
     },
     "execution_count": 16,
     "metadata": {},
     "output_type": "execute_result"
    }
   ],
   "source": [
    "# With dict() and a list of tuple pairs\n",
    "data = [(\"name\", \"alfredo\"), (\"lastname\", \"deza\")]\n",
    "dict(data)"
   ]
  },
  {
   "cell_type": "code",
   "execution_count": 17,
   "metadata": {},
   "outputs": [
    {
     "data": {
      "text/plain": [
       "{'first': 'alfredo', 'lastname': 'deza'}"
      ]
     },
     "execution_count": 17,
     "metadata": {},
     "output_type": "execute_result"
    }
   ],
   "source": [
    "# dictionary creating with dict() and keyword arguments\n",
    "dict(first=\"alfredo\", lastname=\"deza\")\n"
   ]
  },
  {
   "cell_type": "code",
   "execution_count": 22,
   "metadata": {},
   "outputs": [],
   "source": [
    "contact_information = {\n",
    "    \"name\": \"Alfredo\",\n",
    "    \"lastname\": \"Deza\",\n",
    "    \"age\": 49,\n",
    "    \"height\": 1.90,\n",
    "}"
   ]
  },
  {
   "cell_type": "code",
   "execution_count": 25,
   "metadata": {},
   "outputs": [
    {
     "name": "stdout",
     "output_type": "stream",
     "text": [
      "name\n",
      "lastname\n",
      "age\n",
      "height\n",
      "===========\n",
      "name\n",
      "lastname\n",
      "age\n",
      "height\n",
      "Alfredo\n",
      "Deza\n",
      "49\n",
      "1.9\n"
     ]
    }
   ],
   "source": [
    "# Retrieve only keys by default or explicitly\n",
    "for key in contact_information:\n",
    "    print(key)\n",
    "print(\"===========\")\n",
    "\n",
    "for key in contact_information.keys():\n",
    "    print(key)\n",
    "\n",
    "for value in contact_information.values():\n",
    "    print(value)"
   ]
  },
  {
   "cell_type": "code",
   "execution_count": 25,
   "metadata": {},
   "outputs": [
    {
     "name": "stdout",
     "output_type": "stream",
     "text": [
      "Alfredo\n",
      "Deza\n",
      "49\n",
      "1.9\n"
     ]
    }
   ],
   "source": [
    "# Retriving the values\n",
    "for value in contact_information.values():\n",
    "    print(value)"
   ]
  },
  {
   "cell_type": "code",
   "execution_count": 26,
   "metadata": {},
   "outputs": [
    {
     "name": "stdout",
     "output_type": "stream",
     "text": [
      "name --> Alfredo\n",
      "lastname --> Deza\n",
      "age --> 49\n",
      "height --> 1.9\n"
     ]
    },
    {
     "data": {
      "text/plain": [
       "dict_items([('name', 'Alfredo'), ('lastname', 'Deza'), ('age', 49), ('height', 1.9)])"
      ]
     },
     "execution_count": 26,
     "metadata": {},
     "output_type": "execute_result"
    }
   ],
   "source": [
    "# Unpacking in python printing both keys and values. You are going to use two variables within the for loop\n",
    "for key, value in contact_information.items():\n",
    "    print(f\"{key} --> {value}\")\n",
    "\n",
    "contact_information.items()"
   ]
  }
 ],
 "metadata": {
  "kernelspec": {
   "display_name": "Python 3",
   "language": "python",
   "name": "python3"
  },
  "language_info": {
   "codemirror_mode": {
    "name": "ipython",
    "version": 3
   },
   "file_extension": ".py",
   "mimetype": "text/x-python",
   "name": "python",
   "nbconvert_exporter": "python",
   "pygments_lexer": "ipython3",
   "version": "3.13.0"
  }
 },
 "nbformat": 4,
 "nbformat_minor": 2
}
