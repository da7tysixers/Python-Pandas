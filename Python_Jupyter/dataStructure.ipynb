{
 "cells": [
  {
   "cell_type": "markdown",
   "metadata": {},
   "source": [
    "Data Structure: List, Tuple, Set, Membership, Dictionary, Index, Iteration, Key, Value, Methods"
   ]
  },
  {
   "cell_type": "code",
   "execution_count": 1,
   "metadata": {},
   "outputs": [
    {
     "name": "stdout",
     "output_type": "stream",
     "text": [
      "['John', 'Samuel']\n"
     ]
    }
   ],
   "source": [
    "# Code to run\n",
    "team_member = [\"John\", \"Samuel\"]\n",
    "print(team_member[0:2])"
   ]
  },
  {
   "cell_type": "code",
   "execution_count": 4,
   "metadata": {},
   "outputs": [
    {
     "data": {
      "text/plain": [
       "[1, 2, 3, 4, 5]"
      ]
     },
     "execution_count": 4,
     "metadata": {},
     "output_type": "execute_result"
    }
   ],
   "source": [
    "# Lists are containers of items identified by square brackets\n",
    "[1,2,3,4,5]"
   ]
  },
  {
   "cell_type": "code",
   "execution_count": 5,
   "metadata": {},
   "outputs": [
    {
     "data": {
      "text/plain": [
       "[1, 'two', False, 12.5]"
      ]
     },
     "execution_count": 5,
     "metadata": {},
     "output_type": "execute_result"
    }
   ],
   "source": [
    "# lists can contain different types of items in them\n",
    "[1, \"two\", False, 12.5]"
   ]
  },
  {
   "cell_type": "code",
   "execution_count": 2,
   "metadata": {},
   "outputs": [
    {
     "data": {
      "text/plain": [
       "4"
      ]
     },
     "execution_count": 2,
     "metadata": {},
     "output_type": "execute_result"
    }
   ],
   "source": [
    "# you can use built-in to count items in a list\n",
    "len([3, 4, \"red\", \"car\"])"
   ]
  },
  {
   "cell_type": "code",
   "execution_count": 1,
   "metadata": {},
   "outputs": [
    {
     "name": "stdout",
     "output_type": "stream",
     "text": [
      "carrots\n",
      "peas\n",
      "celery\n"
     ]
    }
   ],
   "source": [
    "# each item has a position called \"index\". Count starts with 0\n",
    "items = [\"carrots\", \"peas\", \"celery\"]\n",
    "items[0]\n",
    "\n",
    "for n in items:\n",
    "    print(n)\n",
    "    \n"
   ]
  },
  {
   "cell_type": "code",
   "execution_count": 11,
   "metadata": {},
   "outputs": [
    {
     "name": "stdout",
     "output_type": "stream",
     "text": [
      "[]\n",
      "[2, 3, 4, 5, 3, 4]\n",
      "6\n"
     ]
    }
   ],
   "source": [
    "items = list() # Creating an empty list.\n",
    "print(items)\n",
    "\n",
    "numbers = [2, 3, 4, 12, 5, 3, 4]\n",
    "\n",
    "low_numbers = [n for n in numbers if n < 6]\n",
    "print(low_numbers)\n",
    "\n",
    "print(len(low_numbers))"
   ]
  },
  {
   "cell_type": "code",
   "execution_count": 5,
   "metadata": {},
   "outputs": [
    {
     "name": "stdout",
     "output_type": "stream",
     "text": [
      " Key:name | value:Alfredo\n",
      " Key:lastname | value:Deza\n",
      " Key:age | value:49\n",
      " Key:height | value:1.9\n"
     ]
    }
   ],
   "source": [
    "# Looping through dictionary.\n",
    "contact_information ={\n",
    "    'name': 'Alfredo',\n",
    "    'lastname': 'Deza',\n",
    "    'age': 49,\n",
    "    'height': 1.90,\n",
    "}\n",
    "\n",
    "for key, value in contact_information.items():\n",
    "    print(f\" Key:{key} | value:{value}\")\n",
    "    "
   ]
  },
  {
   "cell_type": "code",
   "execution_count": null,
   "metadata": {},
   "outputs": [],
   "source": []
  }
 ],
 "metadata": {
  "kernelspec": {
   "display_name": "Python 3",
   "language": "python",
   "name": "python3"
  },
  "language_info": {
   "codemirror_mode": {
    "name": "ipython",
    "version": 3
   },
   "file_extension": ".py",
   "mimetype": "text/x-python",
   "name": "python",
   "nbconvert_exporter": "python",
   "pygments_lexer": "ipython3",
   "version": "3.13.0"
  }
 },
 "nbformat": 4,
 "nbformat_minor": 2
}
